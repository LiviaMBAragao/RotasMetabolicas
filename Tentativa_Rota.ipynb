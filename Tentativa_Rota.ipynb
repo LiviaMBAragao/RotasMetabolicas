{
 "cells": [
  {
   "cell_type": "code",
   "execution_count": 124,
   "id": "e62d005b-167a-4c64-b143-87ed1cbaf671",
   "metadata": {},
   "outputs": [],
   "source": [
    "beta = { \n",
    "\n",
    "    \"Ácido graxo\": {\n",
    "        \"Acil-CoA\": {\"label\": \"Acil-CoA-sintetase\"}\n",
    "    },\n",
    "    \"Acil-CoA\": {\n",
    "        \"trans-Δ²-Enoil-CoA\": {\"label\": \"Acil-CoA-desidrogenase\"} # desidrogenação do Acil\n",
    "        \n",
    "    },\n",
    "    \"trans-Δ²-Enoil-CoA\":{\n",
    "        \"B-hidroxiacil-CoA\": {\"label\": \"enoil-CoA-hidratase\"}, # hidratação da trans\n",
    "    },\n",
    "    \"B-hidroxiacil-CoA\": {\n",
    "        \"B-cetoacil-CoA\": {\"label\": \"B-hidroxiacilCoA-desidrogenase\"}, # desidrogenação da hidroxiacil\n",
    "    },\n",
    "    \"B-cetoacil-CoA\":{\n",
    "        \"Acetil-CoA\":{\"label\": \"acil-CoA-acetiltransferase\"}, # catalisação\n",
    "        \"Acil-CoA\":{\"label\": \"acil-CoA-acetiltransferase\"}\n",
    "    }\n",
    "}"
   ]
  },
  {
   "cell_type": "code",
   "execution_count": 21,
   "id": "c62d98ec",
   "metadata": {},
   "outputs": [],
   "source": [
    "mapa_metabolico ={\n",
    "    #Glicólise\n",
    "    \"glicose\": {\n",
    "        \"glicose-6-fosfato\": {\"label\": \"Hexocinase\"}\n",
    "    },\n",
    "    \n",
    "    \"glicose-6-fosfato\": {\n",
    "        \"frutose-6-fosfato\": {\"label\": \"Fosfo-hexose-isomerase\"}\n",
    "    },\n",
    "    \n",
    "    \"frutose-6-fosfato\": { \n",
    "        \"glicose-6-fosfato\": {\"label\": \"\"},\n",
    "        \"frutose-1,6-bisfosfato\": {\"label\": \"fosfofrutocinase 1\"}\n",
    "    },\n",
    "    \n",
    "    \"frutose-1,6-bisfosfato\": {\n",
    "        \"gliceraldeído-3-fosfato + di-hidroxiacetona-fosfato\": {\"label\": \"aldolase\"}\n",
    "    },\n",
    "\n",
    "    \"gliceraldeído-3-fosfato + di-hidroxiacetona-fosfato\": {\n",
    "        \"frutose-1,6-bisfosfato\": {\"label\": \"\"},\n",
    "        \"(2) gliceraldeído-3-fosfato\": {\"label\": \"triose-fosfato-isomerase\"}\n",
    "    },\n",
    "\n",
    "    \"(2) gliceraldeído-3-fosfato\": {\n",
    "        \"gliceraldeído-3-fosfato + di-hidroxiacetona-fosfato\": {\"label\": \"\"},\n",
    "        \"(2) 1,3-bisfosfoglicerato\": {\"label\": \"gliceraldeido-3-fosfato-desidrogenase\"}\n",
    "    },\n",
    "\n",
    "    \"(2) 1,3-bisfosfoglicerato\": {\n",
    "        \"(2) gliceraldeído-3-fosfato\": {\"label\": \"\"},\n",
    "        \"(2) 3-fosfoglicerato\": {\"label\": \"fosfoglicerato-cinase\"}\n",
    "    },\n",
    "\n",
    "    \"(2) 3-fosfoglicerato\": {\n",
    "        \"(2) 1,3-bisfosfoglicerato\": {\"label\": \"\"},\n",
    "        \"(2) 2-fosfoglicerato\": {\"label\": \"fosfoglicerato-mutase\"}\n",
    "    },\n",
    "\n",
    "    \"(2) 2-fosfoglicerato\":{\n",
    "        \"(2) 3-fosfoglicerato\": {\"label\": \"\"},\n",
    "        \"(2) fosfoenolpiruvato\": {\"label\": \"enolase\"}\n",
    "    },\n",
    "\n",
    "    \"(2) fosfoenolpiruvato\": {\n",
    "        \"(2) 2-fosfoglicerato\": {\"label\": \"\"},\n",
    "        \"(2) piruvato\": {\"label\": \"piruvato-cinase\"}\n",
    "    },\n",
    "    #Fermentação \n",
    "\n",
    "    \"(2) piruvato\": {\"Lactato\": {\"label\": \"Lática, Lactato desidrogenase\"},\n",
    "        \"NAD+\": {\"label\": \"Lactato desidrogenase\"},\n",
    "        \"Acetaldeído\": {\"label\": \"Alcóolica, Piruvato descarboxilase\"},\n",
    "        \"CO2\": {\"label\": \"Alcóolica, Piruvato descarvoxilase\"},\n",
    "        \"Acetil-CoA\" : {\"label\": \"Piruvato-Desidrogenase\"}\n",
    "    },\n",
    "    \"Acetaldeído\": {\n",
    "        \"Etanol\": {\"label\": \"Álcool desidrogenase\"},\n",
    "        \"NAD+\": {\"label\": \"Álcool desidrogenase\"}\n",
    "    },\n",
    "\n",
    "    #Ciclo de Krebs\n",
    "    \"Acetil-CoA\": {\n",
    "        \"Citrato\": {\"label\": \"Citrato-Sintetase \"},\n",
    "        \"Malonil-CoA\": {\"label\": \"acetil-CoA carboxilase (ACC)\"},\n",
    "        \"Palmitato\": {\"label\": \"Ácido graxo sintase\"}\n",
    "    },\n",
    "    \"Citrato\": {\n",
    "        \"cis-Aconitato\": {\"label\": \"Aconitase\"},\n",
    "        \"Oxalacetato\": {\"ATP-Citrato Liase\"},\n",
    "        \"Acetil-CoA\": {\"label\": \"ATP-Citrato Liase\"}\n",
    "    },\n",
    "    \"cis-Aconitato\":{\n",
    "        \"Isocitrato\": {\"label\": \"Aconitase\"},\n",
    "    },\n",
    "    \"Isocitrato\": {\n",
    "        \"Oxalosuccinato\": {\"label\":\"Isocitrato-Desidrogenase\"},\n",
    "    },\n",
    "    \"Oxalosuccinato\":{\n",
    "        \"a-Cetoglutarato\": {\"label\": \"Isocitrato-Desidrogenase\"},\n",
    "    },\n",
    "    \"a-Cetoglutarato\": {\n",
    "        \"Succinil-CoA\": {\"label\": \"a-Cetoglutarato-Desidrogenase\"},\n",
    "    },\n",
    "    \"Succinil-CoA\": {\n",
    "        \"Succinato\": {\"label\": \"Succinil-CoA-Sintetase\"},\n",
    "    },\n",
    "    \"Succinato\": {\n",
    "        \"Fumarato\": {\"label\": \"Succinato-Desidrogenase\"},\n",
    "    },\n",
    "    \"Fumarato\": {\n",
    "        \"L-Malato\": {\"label\": \"Fumarase\"},\n",
    "    }, \n",
    "    \"L-Malato\": {\n",
    "        \"Oxaloacetato\": {\"label\": \"Malato-Desidrogenase\"},\n",
    "    },\n",
    "    \"Oxaloacetato\": {\n",
    "        \"Citrato\": {\"label\": \"\"},\n",
    "    },\n",
    "    \n",
    "    #Síntese de ácidos graxos:\n",
    "    \"Malonil-CoA\": {\n",
    "        \"Palmitato\": {\"label\": \"Ácido graxo sintase\"}\n",
    "    }\n",
    "    \n",
    "}"
   ]
  },
  {
   "cell_type": "code",
   "execution_count": 22,
   "id": "d649799a-72af-49e4-9915-2846cd0418a0",
   "metadata": {},
   "outputs": [],
   "source": [
    "def busca_em_profundidade_direcionada(grafo, vertice_atual, vertice_final, visitados=None):\n",
    "    if visitados is None:\n",
    "        visitados = []\n",
    "\n",
    "    visitados.append(vertice_atual)\n",
    "\n",
    "    if vertice_atual == vertice_final:\n",
    "        return visitados\n",
    "\n",
    "    for vizinho in grafo.get(vertice_atual, {}):\n",
    "        if vizinho not in visitados:\n",
    "            resultado = busca_em_profundidade_direcionada(grafo, vizinho, vertice_final, visitados.copy())\n",
    "            if resultado and resultado[-1] == vertice_final:\n",
    "                return resultado\n",
    "\n",
    "    return None"
   ]
  },
  {
   "cell_type": "code",
   "execution_count": 23,
   "id": "e272ad85-d28e-4b4e-8a39-c52615121692",
   "metadata": {},
   "outputs": [],
   "source": [
    "def encontrar_rota(vertice_inicial, vertice_final, grafo):\n",
    "    caminho = busca_em_profundidade_direcionada(grafo, vertice_inicial, vertice_final)\n",
    "    \n",
    "    if vertice_inicial in caminho and vertice_final in caminho:\n",
    "        i = caminho.index(vertice_inicial)\n",
    "        j = caminho.index(vertice_final)\n",
    "        \n",
    "        rota = caminho[i:(j+1)]\n",
    "        \n",
    "    return rota"
   ]
  },
  {
   "cell_type": "code",
   "execution_count": 24,
   "id": "46c2c2e1-160d-4021-b45d-f9f296175f91",
   "metadata": {},
   "outputs": [],
   "source": [
    "rota = encontrar_rota(\"glicose\", \"Palmitato\", mapa_metabolico)"
   ]
  },
  {
   "cell_type": "code",
   "execution_count": 25,
   "id": "9024b187-b9ee-4730-be62-9f23ad2876db",
   "metadata": {},
   "outputs": [],
   "source": [
    "def rota_em_grafo(rota, grafo):\n",
    "    novo_grafo = {}\n",
    "    for vertice in rota:\n",
    "        for enzima in grafo[vertice]:\n",
    "            novo_grafo[vertice] = grafo[vertice][enzima]\n",
    "\n",
    "    return novo_grafo"
   ]
  },
  {
   "cell_type": "code",
   "execution_count": 26,
   "id": "4c5fea4b-ab29-47aa-a147-8a2de2be845c",
   "metadata": {},
   "outputs": [
    {
     "ename": "KeyError",
     "evalue": "'Lactato'",
     "output_type": "error",
     "traceback": [
      "\u001b[1;31m---------------------------------------------------------------------------\u001b[0m",
      "\u001b[1;31mKeyError\u001b[0m                                  Traceback (most recent call last)",
      "Cell \u001b[1;32mIn[26], line 1\u001b[0m\n\u001b[1;32m----> 1\u001b[0m rota_com_enzimas \u001b[38;5;241m=\u001b[39m \u001b[43mrota_em_grafo\u001b[49m\u001b[43m(\u001b[49m\u001b[43mrota\u001b[49m\u001b[43m,\u001b[49m\u001b[43m \u001b[49m\u001b[43mmapa_metabolico\u001b[49m\u001b[43m)\u001b[49m\n",
      "Cell \u001b[1;32mIn[25], line 4\u001b[0m, in \u001b[0;36mrota_em_grafo\u001b[1;34m(rota, grafo)\u001b[0m\n\u001b[0;32m      2\u001b[0m novo_grafo \u001b[38;5;241m=\u001b[39m {}\n\u001b[0;32m      3\u001b[0m \u001b[38;5;28;01mfor\u001b[39;00m vertice \u001b[38;5;129;01min\u001b[39;00m rota:\n\u001b[1;32m----> 4\u001b[0m     \u001b[38;5;28;01mfor\u001b[39;00m enzima \u001b[38;5;129;01min\u001b[39;00m \u001b[43mgrafo\u001b[49m\u001b[43m[\u001b[49m\u001b[43mvertice\u001b[49m\u001b[43m]\u001b[49m:\n\u001b[0;32m      5\u001b[0m         novo_grafo[vertice] \u001b[38;5;241m=\u001b[39m grafo[vertice][enzima]\n\u001b[0;32m      7\u001b[0m \u001b[38;5;28;01mreturn\u001b[39;00m novo_grafo\n",
      "\u001b[1;31mKeyError\u001b[0m: 'Lactato'"
     ]
    }
   ],
   "source": [
    "rota_com_enzimas = rota_em_grafo(rota, mapa_metabolico)"
   ]
  },
  {
   "cell_type": "code",
   "execution_count": 27,
   "id": "3bc1f25c-1192-4eec-a889-84efdb4ffceb",
   "metadata": {},
   "outputs": [],
   "source": [
    "def metabolitos_e_enzimas(grafo, vertice_inicial, vertice_final):\n",
    "    print(f\"Para obter o(a) {vertice_final} a partir do(a) {vertice_inicial}, é preciso passar pela rota:\") \n",
    "    \n",
    "    for metabolito in rota_com_enzimas:\n",
    "        print(f\"Metabolito: {metabolito} - Passa pela enzima: {rota_com_enzimas[metabolito]['label']}\")"
   ]
  },
  {
   "cell_type": "code",
   "execution_count": 20,
   "id": "3dc5629f-887b-4286-a381-d9d4b5a0e5d5",
   "metadata": {},
   "outputs": [
    {
     "name": "stdout",
     "output_type": "stream",
     "text": [
      "Para obter o(a) Palmitato a partir do(a) glicose, é preciso passar pela rota:\n",
      "Metabolito: glicose - Passa pela enzima: Hexocinase\n",
      "Metabolito: glicose-6-fosfato - Passa pela enzima: Fosfo-hexose-isomerase\n",
      "Metabolito: frutose-6-fosfato - Passa pela enzima: fosfofrutocinase 1\n",
      "Metabolito: frutose-1,6-bisfosfato - Passa pela enzima: aldolase\n",
      "Metabolito: gliceraldeído-3-fosfato + di-hidroxiacetona-fosfato - Passa pela enzima: triose-fosfato-isomerase\n",
      "Metabolito: (2) gliceraldeído-3-fosfato - Passa pela enzima: gliceraldeido-3-fosfato-desidrogenase\n",
      "Metabolito: (2) 1,3-bisfosfoglicerato - Passa pela enzima: fosfoglicerato-cinase\n",
      "Metabolito: (2) 3-fosfoglicerato - Passa pela enzima: fosfoglicerato-mutase\n",
      "Metabolito: (2) 2-fosfoglicerato - Passa pela enzima: enolase\n",
      "Metabolito: (2) fosfoenolpiruvato - Passa pela enzima: piruvato-cinase\n",
      "Metabolito: (2) piruvato - Passa pela enzima: Piruvato-Desidrogenase\n",
      "Metabolito: Acetil-CoA - Passa pela enzima: Ácido graxo sintase\n",
      "Metabolito: Malonil-CoA - Passa pela enzima: Ácido graxo sintase\n",
      "Metabolito: Palmitato - Passa pela enzima: Ácido graxo sintase\n"
     ]
    }
   ],
   "source": [
    "metabolitos_e_enzimas(rota_com_enzimas, \"glicose\", \"Palmitato\")"
   ]
  }
 ],
 "metadata": {
  "kernelspec": {
   "display_name": "Python 3",
   "language": "python",
   "name": "python3"
  },
  "language_info": {
   "codemirror_mode": {
    "name": "ipython",
    "version": 3
   },
   "file_extension": ".py",
   "mimetype": "text/x-python",
   "name": "python",
   "nbconvert_exporter": "python",
   "pygments_lexer": "ipython3",
   "version": "3.12.7"
  }
 },
 "nbformat": 4,
 "nbformat_minor": 5
}
