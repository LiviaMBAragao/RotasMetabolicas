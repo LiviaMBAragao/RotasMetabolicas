{
 "cells": [
  {
   "cell_type": "code",
   "execution_count": 124,
   "id": "e62d005b-167a-4c64-b143-87ed1cbaf671",
   "metadata": {},
   "outputs": [],
   "source": [
    "beta = { \n",
    "\n",
    "    \"Ácido graxo\": {\n",
    "        \"Acil-CoA\": {\"label\": \"Acil-CoA-sintetase\"}\n",
    "    },\n",
    "    \"Acil-CoA\": {\n",
    "        \"trans-Δ²-Enoil-CoA\": {\"label\": \"Acil-CoA-desidrogenase\"} # desidrogenação do Acil\n",
    "        \n",
    "    },\n",
    "    \"trans-Δ²-Enoil-CoA\":{\n",
    "        \"B-hidroxiacil-CoA\": {\"label\": \"enoil-CoA-hidratase\"}, # hidratação da trans\n",
    "    },\n",
    "    \"B-hidroxiacil-CoA\": {\n",
    "        \"B-cetoacil-CoA\": {\"label\": \"B-hidroxiacilCoA-desidrogenase\"}, # desidrogenação da hidroxiacil\n",
    "    },\n",
    "    \"B-cetoacil-CoA\":{\n",
    "        \"Acetil-CoA\":{\"label\": \"acil-CoA-acetiltransferase\"}, # catalisação\n",
    "        \"Acil-CoA\":{\"label\": \"acil-CoA-acetiltransferase\"}\n",
    "    }\n",
    "}"
   ]
  },
  {
   "cell_type": "code",
   "execution_count": 125,
   "id": "d649799a-72af-49e4-9915-2846cd0418a0",
   "metadata": {},
   "outputs": [],
   "source": [
    "def busca_em_profundidade(grafo, vertice_inicial, visitados=None):\n",
    "\n",
    "    if visitados is None:\n",
    "        visitados = []\n",
    "\n",
    "    # Caso base: se o vértice já foi visitado, a função não entra no if\n",
    "    if vertice_inicial not in visitados:\n",
    "        visitados.append(vertice_inicial)\n",
    "        lista_vizinhos = grafo.get(vertice_inicial, [])\n",
    "\n",
    "        for vizinho in lista_vizinhos:\n",
    "            # Passo recursivo: encontrou um vizinho ainda não visitado\n",
    "            visitados = busca_em_profundidade(grafo, vizinho, visitados)\n",
    "\n",
    "    return visitados"
   ]
  },
  {
   "cell_type": "code",
   "execution_count": 126,
   "id": "e272ad85-d28e-4b4e-8a39-c52615121692",
   "metadata": {},
   "outputs": [],
   "source": [
    "def encontrar_rota(vertice_inicial, vertice_final, grafo):\n",
    "    caminho = busca_em_profundidade(grafo, vertice_inicial)\n",
    "    \n",
    "    if vertice_inicial in caminho and vertice_final in caminho:\n",
    "        i = caminho.index(vertice_inicial)\n",
    "        j = caminho.index(vertice_final)\n",
    "        \n",
    "        rota = caminho[i:(j+1)]\n",
    "        \n",
    "    return rota"
   ]
  },
  {
   "cell_type": "code",
   "execution_count": 139,
   "id": "46c2c2e1-160d-4021-b45d-f9f296175f91",
   "metadata": {},
   "outputs": [],
   "source": [
    "rota = encontrar_rota(\"Acil-CoA\", \"B-hidroxiacil-CoA\", beta)"
   ]
  },
  {
   "cell_type": "code",
   "execution_count": 140,
   "id": "9024b187-b9ee-4730-be62-9f23ad2876db",
   "metadata": {},
   "outputs": [],
   "source": [
    "def rota_em_grafo(rota, grafo):\n",
    "    novo_grafo = {}\n",
    "    for vertice in rota:\n",
    "        for enzima in grafo[vertice]:\n",
    "            novo_grafo[vertice] = grafo[vertice][enzima]\n",
    "\n",
    "    return novo_grafo"
   ]
  },
  {
   "cell_type": "code",
   "execution_count": 141,
   "id": "4c5fea4b-ab29-47aa-a147-8a2de2be845c",
   "metadata": {},
   "outputs": [],
   "source": [
    "rota_com_enzimas = rota_em_grafo(rota, beta)"
   ]
  },
  {
   "cell_type": "code",
   "execution_count": 144,
   "id": "3bc1f25c-1192-4eec-a889-84efdb4ffceb",
   "metadata": {},
   "outputs": [],
   "source": [
    "def metabolitos_e_enzimas(grafo, vertice_inicial, vertice_final):\n",
    "    print(f\"Para obter o(a) {vertice_final} a partir do(a) {vertice_inicial}, é preciso passar pela rota:\") \n",
    "    \n",
    "    for metabolito in rota_com_enzimas:\n",
    "        print(f\"Metabolito: {metabolito} - Enzima: {rota_com_enzimas[metabolito]['label']}\")"
   ]
  },
  {
   "cell_type": "code",
   "execution_count": 145,
   "id": "3dc5629f-887b-4286-a381-d9d4b5a0e5d5",
   "metadata": {},
   "outputs": [
    {
     "name": "stdout",
     "output_type": "stream",
     "text": [
      "Para obter o(a) B-hidroxiacil-CoA a partir do(a) Acil-CoA, é preciso passar pela rota:\n",
      "Metabolito: Acil-CoA - Enzima: Acil-CoA-desidrogenase\n",
      "Metabolito: trans-Δ²-Enoil-CoA - Enzima: enoil-CoA-hidratase\n",
      "Metabolito: B-hidroxiacil-CoA - Enzima: B-hidroxiacilCoA-desidrogenase\n"
     ]
    }
   ],
   "source": [
    "metabolitos_e_enzimas(rota_com_enzimas, \"Acil-CoA\", \"B-hidroxiacil-CoA\")"
   ]
  },
  {
   "cell_type": "code",
   "execution_count": null,
   "id": "d0f5fc29-8e89-4b9f-88d1-4614e737cbe2",
   "metadata": {},
   "outputs": [],
   "source": []
  }
 ],
 "metadata": {
  "kernelspec": {
   "display_name": "ilumpy",
   "language": "python",
   "name": "ilumpy"
  },
  "language_info": {
   "codemirror_mode": {
    "name": "ipython",
    "version": 3
   },
   "file_extension": ".py",
   "mimetype": "text/x-python",
   "name": "python",
   "nbconvert_exporter": "python",
   "pygments_lexer": "ipython3",
   "version": "3.12.7"
  }
 },
 "nbformat": 4,
 "nbformat_minor": 5
}
