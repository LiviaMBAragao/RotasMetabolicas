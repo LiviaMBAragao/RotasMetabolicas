{
 "cells": [
  {
   "cell_type": "code",
   "execution_count": 62,
   "id": "4a58c8d3",
   "metadata": {},
   "outputs": [],
   "source": [
    "mapa_metabolico ={\n",
    "    \n",
    "    #Glicólise\n",
    "    \n",
    "    \"glicose\": {\n",
    "        \"glicose-6-fosfato\": {\"label\": \"hexocinase\"}\n",
    "    },\n",
    "    \"glicose-6-fosfato\": {\n",
    "        \"frutose-6-fosfato\": {\"label\": \"fosfo-hexose-isomerase\"}\n",
    "    },\n",
    "    \"frutose-6-fosfato\": { \n",
    "        #\"glicose-6-fosfato\": {\"label\": \"\"},\n",
    "        \"frutose-1,6-bisfosfato\": {\"label\": \"fosfofrutocinase 1\"}\n",
    "    },\n",
    "    \"frutose-1,6-bisfosfato\": {\n",
    "        \"gliceraldeído-3-fosfato + di-hidroxiacetona-fosfato\": {\"label\": \"aldolase\"}\n",
    "    },\n",
    "    \"gliceraldeído-3-fosfato + di-hidroxiacetona-fosfato\": {\n",
    "        #\"frutose-1,6-bisfosfato\": {\"label\": \"\"},\n",
    "        \"gliceraldeído-3-fosfato\": {\"label\": \"triose-fosfato-isomerase\"}\n",
    "    },\n",
    "    \"gliceraldeído-3-fosfato\": {\n",
    "        #\"gliceraldeído-3-fosfato + di-hidroxiacetona-fosfato\": {\"label\": \"\"},\n",
    "        \"1,3-bisfosfoglicerato\": {\"label\": \"gliceraldeido-3-fosfato-desidrogenase\"}\n",
    "    },\n",
    "    \"1,3-bisfosfoglicerato\": {\n",
    "        #\"gliceraldeído-3-fosfato\": {\"label\": \"\"},\n",
    "        \"3-fosfoglicerato\": {\"label\": \"fosfoglicerato-cinase\"}\n",
    "    },\n",
    "    \"3-fosfoglicerato\": {\n",
    "        #\"1,3-bisfosfoglicerato\": {\"label\": \"\"},\n",
    "        \"2-fosfoglicerato\": {\"label\": \"fosfoglicerato-mutase\"}\n",
    "    },\n",
    "    \"2-fosfoglicerato\":{\n",
    "        #\"3-fosfoglicerato\": {\"label\": \"\"},\n",
    "        \"fosfoenolpiruvato\": {\"label\": \"enolase\"}\n",
    "    },\n",
    "    \"fosfoenolpiruvato\": {\n",
    "        #\"2-fosfoglicerato\": {\"label\": \"\"},\n",
    "        \"piruvato\": {\"label\": \"piruvato-cinase\"}\n",
    "    },\n",
    "    \n",
    "    #Fermentação \n",
    "\n",
    "    \"piruvato\": {\"lactato\": {\"label\": \"(lática), lactato desidrogenase\"},\n",
    "        \"NAD+\": {\"label\": \"lactato desidrogenase\"},\n",
    "        \"acetaldeído\": {\"label\": \"(alcóolica) piruvato descarboxilase\"},\n",
    "        \"CO2\": {\"label\": \"(alcóolica) piruvato descarvoxilase\"},\n",
    "        \"acetil-CoA\" : {\"label\": \"piruvato-desidrogenase\"}\n",
    "    },\n",
    "    \"acetaldeído\": {\n",
    "        \"etanol\": {\"label\": \"álcool desidrogenase\"},\n",
    "        \"NAD+\": {\"label\": \"álcool desidrogenase\"}\n",
    "    },\n",
    "\n",
    "    #Ciclo de Krebs\n",
    "\n",
    "    \"acetil-CoA\": {\n",
    "        \"citrato\": {\"label\": \"citrato-sintetase \"},\n",
    "        \"malonil-CoA\": {\"label\": \"acetil-CoA carboxilase (ACC)\"},\n",
    "    },\n",
    "    \"citrato\": {\n",
    "        \"cis-aconitato\": {\"label\": \"aconitase\"},\n",
    "        \"oxalacetato\": {\"ATP-citrato liase\"},\n",
    "        \"acetil-CoA\": {\"label\": \"ATP-citrato liase\"}\n",
    "    },\n",
    "    \"cis-aconitato\":{\n",
    "        \"isocitrato\": {\"label\": \"aconitase\"},\n",
    "        #\"citrato\": {\"label\": \"\"}\n",
    "    },\n",
    "    \"isocitrato\": {\n",
    "        \"oxalosuccinato\": {\"label\":\"isocitrato-desidrogenase\"},\n",
    "        #\"cis-Aconitato\": {\"label\": \"\"}\n",
    "    },\n",
    "    \"oxalosuccinato\":{\n",
    "        \"a-cetoglutarato\": {\"label\": \"isocitrato-desidrogenase\"},\n",
    "        #\"isocitrato\": {\"label\": \"\"}\n",
    "    },\n",
    "    \"a-cetoglutarato\": {\n",
    "        \"succinil-CoA\": {\"label\": \"a-cetoglutarato-desidrogenase\"},\n",
    "        #\"oxalosuccinato\": {\"label\": \"\"}\n",
    "    },\n",
    "    \"succinil-CoA\": {\n",
    "        \"succinato\": {\"label\": \"succinil-CoA-sintetase\"},\n",
    "        #\"a-cetoglutarato\": {\"label\": \"\"}\n",
    "    },\n",
    "    \"succinato\": {\n",
    "        \"fumarato\": {\"label\": \"succinato-desidrogenase\"},\n",
    "        #\"succinil-CoA\": {\"label\": \"\"}\n",
    "    },\n",
    "    \"fumarato\": {\n",
    "        \"L-malato\": {\"label\": \"fumarase\"},\n",
    "        #\"succinato\": {\"label\": \"\"}\n",
    "    }, \n",
    "    \"L-malato\": {\n",
    "        \"oxaloacetato\": {\"label\": \"malato-desidrogenase\"},\n",
    "        #\"Fumarato\": {\"label\": \"\"}\n",
    "    },\n",
    "    \"oxaloacetato\": {\n",
    "        \"citrato\": {\"label\": \"\"},\n",
    "        #\"L-malato\": {\"label\": \"\"}\n",
    "    },\n",
    "    \n",
    "    #Síntese de Ácidos Graxos\n",
    "\n",
    "    \"malonil-CoA\": {\n",
    "        \"palmitato\": {\"label\": \"ácido graxo sintase\"}\n",
    "    },\n",
    "    \"palmitato\": {\n",
    "        \"palmitoil-CoA\": {\"label\": \"ácido graxo sintase\"},\n",
    "        \"acetil-CoA\": {\"label\": \"ácido graxo sintase\"}\n",
    "    },\n",
    "\n",
    "    #β-Oxidação\n",
    "\n",
    "    \"acil-CoA\": {\n",
    "        \"trans-Δ²-Enoil-CoA\": {\"label\": \"acil-CoA-desidrogenase\"}     \n",
    "    },\n",
    "    \"trans-Δ²-Enoil-CoA\":{\n",
    "        \"B-hidroxiacil-CoA\": {\"label\": \"enoil-CoA-hidratase\"}, \n",
    "    },\n",
    "    \"B-hidroxiacil-CoA\": {\n",
    "        \"B-cetoacil-CoA\": {\"label\": \"B-hidroxiacilCoA-desidrogenase\"}, \n",
    "    },\n",
    "    \"B-cetoacil-CoA\":{\n",
    "        \"Acetil-CoA\":{\"label\": \"acil-CoA-acetiltransferase\"}, \n",
    "        \"Acil-CoA\":{\"label\": \"acil-CoA-acetiltransferase\"},\n",
    "    }\n",
    "}"
   ]
  },
  {
   "cell_type": "code",
   "execution_count": 63,
   "id": "ceb3d62d",
   "metadata": {},
   "outputs": [],
   "source": [
    "def busca_em_profundidade_direcionada(grafo, vertice_atual, vertice_final, visitados=None):\n",
    "    if visitados is None:\n",
    "        visitados = []\n",
    "\n",
    "    visitados.append(vertice_atual)\n",
    "\n",
    "    if vertice_atual == vertice_final:\n",
    "        return visitados\n",
    "\n",
    "    for vizinho in grafo.get(vertice_atual, {}):\n",
    "        if vizinho not in visitados:\n",
    "            resultado = busca_em_profundidade_direcionada(grafo, vizinho, vertice_final, visitados.copy())\n",
    "            if resultado and resultado[-1] == vertice_final:\n",
    "                return resultado\n",
    "\n",
    "    return None"
   ]
  },
  {
   "cell_type": "code",
   "execution_count": 72,
   "id": "18d6e3fb",
   "metadata": {},
   "outputs": [
    {
     "data": {
      "text/plain": [
       "['glicose',\n",
       " 'glicose-6-fosfato',\n",
       " 'frutose-6-fosfato',\n",
       " 'frutose-1,6-bisfosfato',\n",
       " 'gliceraldeído-3-fosfato + di-hidroxiacetona-fosfato',\n",
       " 'gliceraldeído-3-fosfato',\n",
       " '1,3-bisfosfoglicerato',\n",
       " '3-fosfoglicerato',\n",
       " '2-fosfoglicerato',\n",
       " 'fosfoenolpiruvato',\n",
       " 'piruvato']"
      ]
     },
     "execution_count": 72,
     "metadata": {},
     "output_type": "execute_result"
    }
   ],
   "source": [
    "busca_em_profundidade_direcionada(mapa_metabolico, \"glicose\", \"piruvato\")"
   ]
  },
  {
   "cell_type": "code",
   "execution_count": 79,
   "id": "46c2c2e1-160d-4021-b45d-f9f296175f91",
   "metadata": {},
   "outputs": [],
   "source": [
    "rota = busca_em_profundidade_direcionada(mapa_metabolico, \"glicose\", \"palmitato\")"
   ]
  },
  {
   "cell_type": "code",
   "execution_count": 80,
   "id": "9024b187-b9ee-4730-be62-9f23ad2876db",
   "metadata": {},
   "outputs": [],
   "source": [
    "def rota_em_grafo(rota, grafo):\n",
    "    novo_grafo = {}\n",
    "    for vertice in rota:\n",
    "        for enzima in grafo[vertice]:\n",
    "            novo_grafo[vertice] = grafo[vertice][enzima]\n",
    "\n",
    "    return novo_grafo"
   ]
  },
  {
   "cell_type": "code",
   "execution_count": 81,
   "id": "37651f86",
   "metadata": {},
   "outputs": [
    {
     "data": {
      "text/plain": [
       "{'glicose': {'label': 'hexocinase'},\n",
       " 'glicose-6-fosfato': {'label': 'fosfo-hexose-isomerase'},\n",
       " 'frutose-6-fosfato': {'label': 'fosfofrutocinase 1'},\n",
       " 'frutose-1,6-bisfosfato': {'label': 'aldolase'},\n",
       " 'gliceraldeído-3-fosfato + di-hidroxiacetona-fosfato': {'label': 'triose-fosfato-isomerase'},\n",
       " 'gliceraldeído-3-fosfato': {'label': 'gliceraldeido-3-fosfato-desidrogenase'},\n",
       " '1,3-bisfosfoglicerato': {'label': 'fosfoglicerato-cinase'},\n",
       " '3-fosfoglicerato': {'label': 'fosfoglicerato-mutase'},\n",
       " '2-fosfoglicerato': {'label': 'enolase'},\n",
       " 'fosfoenolpiruvato': {'label': 'piruvato-cinase'},\n",
       " 'piruvato': {'label': 'piruvato-desidrogenase'},\n",
       " 'acetil-CoA': {'label': 'acetil-CoA carboxilase (ACC)'},\n",
       " 'malonil-CoA': {'label': 'ácido graxo sintase'},\n",
       " 'palmitato': {'label': 'ácido graxo sintase'}}"
      ]
     },
     "execution_count": 81,
     "metadata": {},
     "output_type": "execute_result"
    }
   ],
   "source": [
    "rota_em_grafo(rota, mapa_metabolico)"
   ]
  },
  {
   "cell_type": "code",
   "execution_count": 70,
   "id": "cddc10e6",
   "metadata": {},
   "outputs": [],
   "source": [
    "def metabolitos_e_enzimas(grafo, vertice_inicial, vertice_final):\n",
    "    print(f\"Para obter o(a) {vertice_final} a partir do(a) {vertice_inicial}, é preciso passar pela rota:\") \n",
    "    rota_com_enzimas = rota_em_grafo(rota, mapa_metabolico)\n",
    "    lista_da_rota = list(rota_com_enzimas.keys())\n",
    "    \n",
    "    for i in range(len(lista_da_rota)-1):\n",
    "        print(f\"Metabolito: {lista_da_rota[i]} -> Passa pela enzima: {rota_com_enzimas[lista_da_rota[i]]['label']}\")\n",
    "\n",
    "    print(f\"Produto final: {lista_da_rota[-1]}\")"
   ]
  },
  {
   "cell_type": "code",
   "execution_count": 82,
   "id": "3dc5629f-887b-4286-a381-d9d4b5a0e5d5",
   "metadata": {},
   "outputs": [
    {
     "name": "stdout",
     "output_type": "stream",
     "text": [
      "Para obter o(a) palmitato a partir do(a) glicose, é preciso passar pela rota:\n",
      "Metabolito: glicose -> Passa pela enzima: hexocinase\n",
      "Metabolito: glicose-6-fosfato -> Passa pela enzima: fosfo-hexose-isomerase\n",
      "Metabolito: frutose-6-fosfato -> Passa pela enzima: fosfofrutocinase 1\n",
      "Metabolito: frutose-1,6-bisfosfato -> Passa pela enzima: aldolase\n",
      "Metabolito: gliceraldeído-3-fosfato + di-hidroxiacetona-fosfato -> Passa pela enzima: triose-fosfato-isomerase\n",
      "Metabolito: gliceraldeído-3-fosfato -> Passa pela enzima: gliceraldeido-3-fosfato-desidrogenase\n",
      "Metabolito: 1,3-bisfosfoglicerato -> Passa pela enzima: fosfoglicerato-cinase\n",
      "Metabolito: 3-fosfoglicerato -> Passa pela enzima: fosfoglicerato-mutase\n",
      "Metabolito: 2-fosfoglicerato -> Passa pela enzima: enolase\n",
      "Metabolito: fosfoenolpiruvato -> Passa pela enzima: piruvato-cinase\n",
      "Metabolito: piruvato -> Passa pela enzima: piruvato-desidrogenase\n",
      "Metabolito: acetil-CoA -> Passa pela enzima: acetil-CoA carboxilase (ACC)\n",
      "Metabolito: malonil-CoA -> Passa pela enzima: ácido graxo sintase\n",
      "Produto final: palmitato\n"
     ]
    }
   ],
   "source": [
    "metabolitos_e_enzimas(rota_com_enzimas, \"glicose\", \"palmitato\")"
   ]
  },
  {
   "cell_type": "code",
   "execution_count": null,
   "id": "6493195d",
   "metadata": {},
   "outputs": [],
   "source": []
  }
 ],
 "metadata": {
  "kernelspec": {
   "display_name": "Python 3",
   "language": "python",
   "name": "python3"
  },
  "language_info": {
   "codemirror_mode": {
    "name": "ipython",
    "version": 3
   },
   "file_extension": ".py",
   "mimetype": "text/x-python",
   "name": "python",
   "nbconvert_exporter": "python",
   "pygments_lexer": "ipython3",
   "version": "3.12.7"
  }
 },
 "nbformat": 4,
 "nbformat_minor": 5
}
