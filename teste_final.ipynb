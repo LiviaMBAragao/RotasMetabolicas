{
 "cells": [
  {
   "cell_type": "code",
   "execution_count": 18,
   "id": "3a116972-dd48-4d11-ae74-1cfb857577f2",
   "metadata": {},
   "outputs": [],
   "source": [
    "mapa_metabolico ={\n",
    "    \n",
    "    #Glicólise\n",
    "\n",
    "    \"glicose\": {\n",
    "        \"glicose-6-fosfato\": {\"label\": \"hexocinase\"}\n",
    "    },\n",
    "    \n",
    "    \"glicose-6-fosfato\": {\n",
    "        \"frutose-6-fosfato\": {\"label\": \"fosfo-hexose-isomerase\"}\n",
    "    },\n",
    "    \n",
    "    \"frutose-6-fosfato\": { \n",
    "        \"glicose-6-fosfato\": {\"label\": \"fosfo-hexose-isomerase\"},\n",
    "        \"frutose-1,6-bisfosfato\": {\"label\": \"fosfofrutocinase 1\"}\n",
    "    },\n",
    "    \n",
    "    \"frutose-1,6-bisfosfato\": {\n",
    "        \"gliceraldeído-3-fosfato + di-hidroxiacetona-fosfato\": {\"label\": \"aldolase\"}\n",
    "    },\n",
    "\n",
    "    \"gliceraldeído-3-fosfato + di-hidroxiacetona-fosfato\": {\n",
    "        \"frutose-1,6-bisfosfato\": {\"label\": \"aldolase\"},\n",
    "        \"(2) gliceraldeído-3-fosfato\": {\"label\": \"triose-fosfato-isomerase\"}\n",
    "    },\n",
    "\n",
    "    \"(2) gliceraldeído-3-fosfato\": {\n",
    "        \"gliceraldeído-3-fosfato + di-hidroxiacetona-fosfato\": {\"label\": \"triose-fosfato-isomerase\"},\n",
    "        \"(2) 1,3-bisfosfoglicerato\": {\"label\": \"gliceraldeido-3-fosfato-desidrogenase\"}\n",
    "    },\n",
    "\n",
    "    \"(2) 1,3-bisfosfoglicerato\": {\n",
    "        \"(2) gliceraldeído-3-fosfato\": {\"label\": \"gliceraldeido-3-fosfato-desidrogenase\"},\n",
    "        \"(2) 3-fosfoglicerato\": {\"label\": \"fosfoglicerato-cinase\"}\n",
    "    },\n",
    "\n",
    "    \"(2) 3-fosfoglicerato\": {\n",
    "        \"(2) 1,3-bisfosfoglicerato\": {\"label\": \"osfoglicerato-cinase\"},\n",
    "        \"(2) 2-fosfoglicerato\": {\"label\": \"fosfoglicerato-mutase\"}\n",
    "    },\n",
    "\n",
    "    \"(2) 2-fosfoglicerato\":{\n",
    "        \"(2) 3-fosfoglicerato\": {\"label\": \"fosfoglicerato-mutase\"},\n",
    "        \"(2) fosfoenolpiruvato\": {\"label\": \"enolase\"}\n",
    "    },\n",
    "\n",
    "    \"(2) fosfoenolpiruvato\": {\n",
    "        \"(2) 2-fosfoglicerato\": {\"label\": \"enolase\"},\n",
    "        \"(2) piruvato\": {\"label\": \"piruvato-cinase\"}\n",
    "    },\n",
    "    #Fermentação \n",
    "\n",
    "    \"(2) piruvato\": {\"lactato\": {\"label\": \"(lática) lactato desidrogenase\"},\n",
    "        \"NAD+\": {\"label\": \"lactato desidrogenase\"},\n",
    "        \"acetaldeído\": {\"label\": \"(alcóolica) piruvato descarboxilase\"},\n",
    "        \"CO2\": {\"label\": \"(alcóolica) piruvato descarvoxilase\"},\n",
    "        \"acetil-CoA\" : {\"label\": \"piruvato-desidrogenase\"}\n",
    "    },\n",
    "    \"acetaldeído\": {\n",
    "        \"etanol\": {\"label\": \"álcool desidrogenase\"},\n",
    "        \"NAD+\": {\"label\": \"álcool desidrogenase\"}\n",
    "    },\n",
    "\n",
    "    #Ciclo de Krebs\n",
    "    \"acetil-CoA\": {\n",
    "        \"citrato\": {\"label\": \"citrato-sintetase \"},\n",
    "        \"malonil-CoA\": {\"label\": \"acetil-CoA carboxilase (ACC)\"},\n",
    "    },\n",
    "    \"citrato\": {\n",
    "        \"cis-aconitato\": {\"label\": \"aconitase\"},\n",
    "        \n",
    "    },\n",
    "    \"cis-aconitato\":{\n",
    "        \"isocitrato\": {\"label\": \"aconitase\"},\n",
    "        \n",
    "    },\n",
    "    \"isocitrato\": {\n",
    "        \"oxalosuccinato\": {\"label\":\"isocitrato-desidrogenase\"},\n",
    "        \n",
    "    },\n",
    "    \"oxalosuccinato\":{\n",
    "        \"a-cetoglutarato\": {\"label\": \"isocitrato-desidrogenase\"},\n",
    "     },\n",
    "    \"a-cetoglutarato\": {\n",
    "        \"succinil-CoA\": {\"label\": \"a-cetoglutarato-desidrogenase\"},\n",
    "    \n",
    "    },\n",
    "    \"succinil-CoA\": {\n",
    "        \"succinato\": {\"label\": \"succinil-CoA-Sintetase\"},\n",
    "    \n",
    "    },\n",
    "    \"succinato\": {\n",
    "        \"fumarato\": {\"label\": \"succinato-desidrogenase\"},\n",
    "    \n",
    "    },\n",
    "    \"fumarato\": {\n",
    "        \"L-malato\": {\"label\": \"fumarase\"},\n",
    "    \n",
    "    }, \n",
    "    \"L-malato\": {\n",
    "        \"oxaloacetato\": {\"label\": \"malato-desidrogenase\"},\n",
    "    \n",
    "    },\n",
    "    \"oxaloacetato\": {\n",
    "        \"citrato\": {\"label\": \"citratase\"}\n",
    "    \n",
    "    },\n",
    "    #Síntese de ácidos graxos:\n",
    "    \"malonil-CoA\": {\n",
    "        \"palmitato\": {\"label\": \"ácido graxo sintase\"}\n",
    "    },\n",
    "    \"palmitato\": {\n",
    "        \"palmitoil-CoA\": {\"label\": \"ácido graxo sintase\"},\n",
    "        \"acetil-CoA\": {\"label\": \"ácido graxo sintase\"}\n",
    "    }\n",
    "}"
   ]
  },
  {
   "cell_type": "code",
   "execution_count": 19,
   "id": "a08ab232-e643-4698-853d-814762194ba9",
   "metadata": {},
   "outputs": [],
   "source": [
    "def busca_em_profundidade_direcionada(vertice_inicial, vertice_final, grafo, visitados=None):\n",
    "    if visitados is None:\n",
    "        visitados = []\n",
    "\n",
    "    visitados.append(vertice_inicial)\n",
    "\n",
    "    if vertice_inicial == vertice_final:\n",
    "        return visitados\n",
    "\n",
    "    for vizinho in grafo.get(vertice_inicial, {}):\n",
    "        if vizinho not in visitados:\n",
    "            resultado = busca_em_profundidade_direcionada( vizinho, vertice_final, grafo, visitados.copy())\n",
    "            if resultado and resultado[-1] == vertice_final:\n",
    "                return resultado\n",
    "\n",
    "    return None"
   ]
  },
  {
   "cell_type": "code",
   "execution_count": 20,
   "id": "f9ec33d1-918b-4b26-8aa5-d2279d0b850e",
   "metadata": {},
   "outputs": [
    {
     "name": "stdout",
     "output_type": "stream",
     "text": [
      "['frutose-6-fosfato', 'frutose-1,6-bisfosfato', 'gliceraldeído-3-fosfato + di-hidroxiacetona-fosfato']\n"
     ]
    }
   ],
   "source": [
    "print(busca_em_profundidade_direcionada(\"frutose-6-fosfato\", \"gliceraldeído-3-fosfato + di-hidroxiacetona-fosfato\", mapa_metabolico))"
   ]
  },
  {
   "cell_type": "markdown",
   "id": "d55a8ca8",
   "metadata": {},
   "source": [
    "# Transformação da rota em grafo:\n",
    "Cria um novo grafo ponderado pelas enzimas da rota metabólica a partir da saída da função busca_em_profundidade_direcionada. A cauda da aresta é um item da lista de saída, a cabeça é o item seguinte e o peso da aresta é a enzima correspondente à cauda."
   ]
  },
  {
   "cell_type": "code",
   "execution_count": 84,
   "id": "8ff8dd95-52eb-4e03-b712-63aef3661147",
   "metadata": {},
   "outputs": [],
   "source": [
    "def rota_em_grafo(vertice_inicial, vertice_final, grafo):\n",
    "    rota = busca_em_profundidade_direcionada(vertice_inicial, vertice_final, grafo)\n",
    "    novo_grafo = {}\n",
    "    try:\n",
    "        for i in range(len(rota)):\n",
    "            for enzima in grafo[rota[i]]:\n",
    "                if i+1 < len(rota):\n",
    "                    novo_grafo[rota[i]] = {rota[i+1]: {\"label\": grafo[rota[i]][enzima]['label']}}\n",
    "                elif i+1 == len(rota):\n",
    "                    novo_grafo[rota[i]] = {}\n",
    "    except:\n",
    "        return \"Não é possível realizar a reação.\"\n",
    "\n",
    "    return novo_grafo"
   ]
  },
  {
   "cell_type": "code",
   "execution_count": 85,
   "id": "dff17a22-200b-47e5-8d0f-063999fe7927",
   "metadata": {},
   "outputs": [
    {
     "data": {
      "text/plain": [
       "{'glicose-6-fosfato': {'frutose-6-fosfato': {'label': 'fosfo-hexose-isomerase'}},\n",
       " 'frutose-6-fosfato': {'frutose-1,6-bisfosfato': {'label': 'fosfofrutocinase 1'}},\n",
       " 'frutose-1,6-bisfosfato': {}}"
      ]
     },
     "execution_count": 85,
     "metadata": {},
     "output_type": "execute_result"
    }
   ],
   "source": [
    "rota_em_grafo(\"glicose-6-fosfato\", \"frutose-1,6-bisfosfato\", mapa_metabolico)"
   ]
  },
  {
   "cell_type": "code",
   "execution_count": 86,
   "id": "6d07e6a3-4279-4895-a7cf-1d91f5fad69e",
   "metadata": {},
   "outputs": [],
   "source": [
    "def metabolitos_e_enzimas(vertice_inicial, vertice_final, grafo):\n",
    "    rota_com_enzimas = rota_em_grafo(vertice_inicial, vertice_final, grafo)\n",
    "    if type(rota_com_enzimas) != dict:\n",
    "        print(f\"Não é possível chegar ao {vertice_final} partindo do {vertice_inicial}\")\n",
    "    else:\n",
    "        print(f\"Para obter o(a) {vertice_final} a partir do(a) {vertice_inicial}, é preciso passar pela rota:\") \n",
    "        lista_da_rota = list(rota_com_enzimas.keys())\n",
    "        lista_grafo = list(grafo.keys())\n",
    "        if lista_grafo.index(vertice_inicial) < lista_grafo.index(vertice_final):\n",
    "            for i in range(len(lista_da_rota) - 1):\n",
    "                print(f\"Metabolito: {lista_da_rota[i]} -> [Enzima: {rota_com_enzimas[lista_da_rota[i]][lista_da_rota[i+1]][\"label\"]}] ->\")\n",
    "        else: \n",
    "             for i in range(len(lista_da_rota) - 1):\n",
    "                print(f\"Metabolito: {lista_da_rota[i]} -> [Enzima: {rota_com_enzimas[lista_da_rota[i+1]][lista_da_rota[i+2]][\"label\"]} ->\")\n",
    "\n",
    "        print(f\"Produto: {lista_da_rota[-1]}\")\n",
    "\n",
    "        "
   ]
  },
  {
   "cell_type": "code",
   "execution_count": 87,
   "id": "a5abc57a-810a-4f34-b563-0181d7102919",
   "metadata": {},
   "outputs": [
    {
     "name": "stdout",
     "output_type": "stream",
     "text": [
      "Para obter o(a) frutose-1,6-bisfosfato a partir do(a) glicose-6-fosfato, é preciso passar pela rota:\n",
      "Metabolito: glicose-6-fosfato -> [Enzima: fosfo-hexose-isomerase] ->\n",
      "Metabolito: frutose-6-fosfato -> [Enzima: fosfofrutocinase 1] ->\n",
      "Produto: frutose-1,6-bisfosfato\n"
     ]
    }
   ],
   "source": [
    "metabolitos_e_enzimas(\"glicose-6-fosfato\", \"frutose-1,6-bisfosfato\", mapa_metabolico)"
   ]
  },
  {
   "cell_type": "code",
   "execution_count": null,
   "id": "2b4ebf0f-7a8f-4b96-8b81-b4cdee6a35b3",
   "metadata": {},
   "outputs": [],
   "source": []
  }
 ],
 "metadata": {
  "kernelspec": {
   "display_name": "Python 3",
   "language": "python",
   "name": "python3"
  },
  "language_info": {
   "codemirror_mode": {
    "name": "ipython",
    "version": 3
   },
   "file_extension": ".py",
   "mimetype": "text/x-python",
   "name": "python",
   "nbconvert_exporter": "python",
   "pygments_lexer": "ipython3",
   "version": "3.12.7"
  }
 },
 "nbformat": 4,
 "nbformat_minor": 5
}
