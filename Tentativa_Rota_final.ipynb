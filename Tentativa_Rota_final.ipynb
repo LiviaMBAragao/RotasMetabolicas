{
 "cells": [
  {
   "cell_type": "code",

   "id": "4a58c8d3",
   "metadata": {},
   "outputs": [],
   "source": [
    "mapa_metabolico ={\n",

    "    \n",
    "    #Glicólise\n",
    "\n",
    "    \"glicose\": {\n",
    "        \"glicose-6-fosfato\": {\"label\": \"hexocinase\"}\n",
    "    },\n",
    "    \n",
    "    \"glicose-6-fosfato\": {\n",
    "        \"frutose-6-fosfato\": {\"label\": \"fosfo-hexose-isomerase\"}\n",
    "    },\n",
    "    \n",
    "    \"frutose-6-fosfato\": { \n",
    "        \"glicose-6-fosfato\": {\"label\": \"fosfo-hexose-isomerase\"},\n",
    "        \"frutose-1,6-bisfosfato\": {\"label\": \"fosfofrutocinase 1\"}\n",
    "    },\n",
    "    \n",
    "    \"frutose-1,6-bisfosfato\": {\n",
    "        \"gliceraldeído-3-fosfato + di-hidroxiacetona-fosfato\": {\"label\": \"aldolase\"}\n",
    "    },\n",
    "\n",
    "    \"gliceraldeído-3-fosfato + di-hidroxiacetona-fosfato\": {\n",
    "        \"frutose-1,6-bisfosfato\": {\"label\": \"aldolase\"},\n",
    "        \"(2) gliceraldeído-3-fosfato\": {\"label\": \"triose-fosfato-isomerase\"}\n",
    "    },\n",
    "\n",
    "    \"(2) gliceraldeído-3-fosfato\": {\n",
    "        \"gliceraldeído-3-fosfato + di-hidroxiacetona-fosfato\": {\"label\": \"triose-fosfato-isomerase\"},\n",
    "        \"(2) 1,3-bisfosfoglicerato\": {\"label\": \"gliceraldeido-3-fosfato-desidrogenase\"}\n",
    "    },\n",
    "\n",
    "    \"(2) 1,3-bisfosfoglicerato\": {\n",
    "        \"(2) gliceraldeído-3-fosfato\": {\"label\": \"gliceraldeido-3-fosfato-desidrogenase\"},\n",
    "        \"(2) 3-fosfoglicerato\": {\"label\": \"fosfoglicerato-cinase\"}\n",
    "    },\n",
    "\n",
    "    \"(2) 3-fosfoglicerato\": {\n",
    "        \"(2) 1,3-bisfosfoglicerato\": {\"label\": \"osfoglicerato-cinase\"},\n",
    "        \"(2) 2-fosfoglicerato\": {\"label\": \"fosfoglicerato-mutase\"}\n",
    "    },\n",
    "\n",
    "    \"(2) 2-fosfoglicerato\":{\n",
    "        \"(2) 3-fosfoglicerato\": {\"label\": \"fosfoglicerato-mutase\"},\n",
    "        \"(2) fosfoenolpiruvato\": {\"label\": \"enolase\"}\n",
    "    },\n",
    "\n",
    "    \"(2) fosfoenolpiruvato\": {\n",
    "        \"(2) 2-fosfoglicerato\": {\"label\": \"enolase\"},\n",
    "        \"(2) piruvato\": {\"label\": \"piruvato-cinase\"}\n",
    "    },\n",
    "    #Fermentação \n",
    "\n",

    "    \"(2) piruvato\": {\"lactato\": {\"label\": \"(lática) lactato desidrogenase\"},\n",
    "        \"NAD+\": {\"label\": \"lactato desidrogenase\"},\n",
    "        \"acetaldeído\": {\"label\": \"(alcóolica) piruvato descarboxilase\"},\n",
    "        \"CO2\": {\"label\": \"(alcóolica) piruvato descarvoxilase\"},\n",
    "        \"acetil-CoA\" : {\"label\": \"piruvato-desidrogenase\"}\n",
    "    },\n",
    "    \"acetaldeído\": {\n",
    "        \"etanol\": {\"label\": \"álcool desidrogenase\"},\n",
    "        \"NAD+\": {\"label\": \"álcool desidrogenase\"}\n",
    "    },\n",

    "    #Ciclo de Krebs\n",
    "    \"acetil-CoA\": {\n",
    "        \"citrato\": {\"label\": \"citrato-sintetase \"},\n",
    "        \"malonil-CoA\": {\"label\": \"acetil-CoA carboxilase (ACC)\"},\n",
    "    },\n",
    "    \"citrato\": {\n",
    "        \"cis-aconitato\": {\"label\": \"aconitase\"},\n",

    "        \"oxalacetato\": {\"label\": \"ATP-citrato liase\"},\n",
    "        \"acetil-CoA\": {\"label\": \"ATP-citrato liase\"}\n",
    "    },\n",
    "    \"cis-aconitato\":{\n",
    "        \"isocitrato\": {\"label\": \"aconitase\"},\n",
    "        \"citrato\": {\"label\": \"\"}\n",
    "    },\n",
    "    \"isocitrato\": {\n",
    "        \"oxalosuccinato\": {\"label\":\"isocitrato-desidrogenase\"},\n",
    "        \"cis-aconitato\": {\"label\": \"\"}\n",
    "    },\n",
    "    \"oxalosuccinato\":{\n",
    "        \"alfa-cetoglutarato\": {\"label\": \"isocitrato-desidrogenase\"},\n",
    "        \"isocitrato\": {\"label\": \"\"}\n",
    "    },\n",
    "    \"alfa-cetoglutarato\": {\n",
    "        \"succinil-CoA\": {\"label\": \"alfa-cetoglutarato-desidrogenase\"},\n",
    "        \"oxalosuccinato\": {\"label\": \"\"}\n",
    "    },\n",
    "    \"succinil-CoA\": {\n",
    "        \"succinato\": {\"label\": \"succinil-CoA-Sintetase\"},\n",
    "        \"alfa-cetoglutarato\": {\"label\": \"\"}\n",
    "    },\n",
    "    \"succinato\": {\n",
    "        \"fumarato\": {\"label\": \"succinato-desidrogenase\"},\n",
    "        \"succinil-CoA\": {\"label\": \"\"}\n",
    "    },\n",
    "    \"fumarato\": {\n",
    "        \"L-malato\": {\"label\": \"fumarase\"},\n",
    "        \"succinato\": {\"label\": \"\"}\n",
    "    }, \n",
    "    \"L-malato\": {\n",
    "        \"oxalacetato\": {\"label\": \"malato-desidrogenase\"},\n",
    "        \"fumarato\": {\"label\": \"\"}\n",
    "    },\n",
    "    \"oxalacetato\": {\n",
    "        \"citrato\": {\"label\": \"\"},\n",
    "        \"L-malato\": {\"label\": \"\"}\n",

    "    },\n",
    "    #Síntese de ácidos graxos:\n",
    "    \"malonil-CoA\": {\n",
    "        \"palmitato\": {\"label\": \"ácido graxo sintase\"}\n",
    "    },\n",

    " \n",
    "    #Beta-Oxidação\n",
    "    \"palmitato\": {\n",
    "        \"acil-CoA\": {\"label\": \"acil-CoA-sintetase\"}\n",
    "    },\n",
    "    \"acil-CoA\": {\n",
    "        \"trans-Δ²-Enoil-CoA\": {\"label\": \"acil-CoA-desidrogenase\"} \n",
    "    },\n",
    "    \"trans-Δ²-Enoil-CoA\":{\n",
    "        \"beta-hidroxiacil-CoA\": {\"label\": \"enoil-CoA-hidratase\"},\n",
    "    },\n",
    "    \"beta-hidroxiacil-CoA\": {\n",
    "        \"beta-cetoacil-CoA\": {\"label\": \"beta-hidroxiacilCoA-desidrogenase\"},\n",
    "    },\n",
    "    \"beta-cetoacil-CoA\":{\n",
    "        \"acetil-CoA\":{\"label\": \"acil-CoA-acetiltransferase\"},\n",
    "        \"acil-CoA\":{\"label\": \"acil-CoA-acetiltransferase\"}\n",

    "    }\n",
    "}"
   ]
  },
  {
   "cell_type": "code",

   "execution_count": 14,
   "id": "c7467ab5-5ca9-4e10-a3af-c0d4f5a0cd63",
   "metadata": {},
   "outputs": [],
   "source": [
    "def tira_dobro(grafo):\n",
    "    novo_grafo = {}\n",
    "    for chave, valor in grafo.items():\n",
    "        if chave.startswith(\"(2) \"):\n",
    "            nova_chave = chave.replace(\"(2) \", \"\")\n",
    "        else:\n",
    "            nova_chave = chave\n",
    " \n",
    "        novo_valor = {}\n",
    "        for item, label in valor.items():\n",
    "            if item.startswith(\"(2) \"):\n",
    "                novo_item = item.replace(\"(2) \", \"\")\n",
    "            else:\n",
    "                novo_item = item\n",
    "            novo_valor[novo_item] = label\n",
    " \n",
    "        novo_grafo[nova_chave] = novo_valor\n",
    "    return novo_grafo\n",
    "    "
   ]
  },
  {
   "cell_type": "code",
   "execution_count": 15,
   "id": "005dd980-167c-49ac-ba0f-7ffb112d4aae",
   "metadata": {},
   "outputs": [
    {
     "ename": "NameError",
     "evalue": "name 'grafo' is not defined",
     "output_type": "error",
     "traceback": [
      "\u001b[1;31m---------------------------------------------------------------------------\u001b[0m",
      "\u001b[1;31mNameError\u001b[0m                                 Traceback (most recent call last)",
      "Cell \u001b[1;32mIn[15], line 1\u001b[0m\n\u001b[1;32m----> 1\u001b[0m grafo \u001b[38;5;241m=\u001b[39m tira_dobro(\u001b[43mgrafo\u001b[49m)\n\u001b[0;32m      3\u001b[0m \u001b[38;5;28;01mdef\u001b[39;00m \u001b[38;5;21mler_vertices\u001b[39m(grafo):\n\u001b[0;32m      4\u001b[0m     vertices_repetidos \u001b[38;5;241m=\u001b[39m []\n",
      "\u001b[1;31mNameError\u001b[0m: name 'grafo' is not defined"
     ]
    }
   ],
   "source": [
    "grafo = tira_dobro(grafo)\n",
    " \n",
    "def banco_de_metabolitos(grafo):\n",
    "    vertices_repetidos = []\n",
    "    vertices = set(vertices_repetidos)\n",
    " \n",
    "    for origem in grafo:\n",
    "        vertices.append(origem)\n",
    "        for destino in grafo[origem]:\n",
    "            vertices.append(destino)\n",
    " \n",
    "    return vertices"
   ]
  },
  {
   "cell_type": "code",
   "execution_count": 9,

   "id": "ceb3d62d",
   "metadata": {},
   "outputs": [],
   "source": [
    "def busca_em_profundidade_direcionada(vertice_inicial, vertice_final, grafo, visitados=None):\n",

    "    grafo = tira_dobro(grafo)\n",
    "    \n",

    "    if visitados is None:\n",
    "        visitados = []\n",
    "\n",
    "    visitados.append(vertice_inicial)\n",
    "\n",
    "    if vertice_inicial == vertice_final:\n",
    "        return visitados\n",
    "\n",
    "    for vizinho in grafo.get(vertice_inicial, {}):\n",
    "        if vizinho not in visitados:\n",
    "            resultado = busca_em_profundidade_direcionada( vizinho, vertice_final, grafo, visitados.copy())\n",
    "            if resultado and resultado[-1] == vertice_final:\n",
    "                return resultado\n",
    "\n",
    "    return None"
   ]
  },
  {
   "cell_type": "code",

   "execution_count": 9,
   "id": "c03549e2",
   "metadata": {},
   "outputs": [
    {
     "name": "stdout",
     "output_type": "stream",
     "text": [
      "['frutose-6-fosfato', 'frutose-1,6-bisfosfato', 'gliceraldeído-3-fosfato + di-hidroxiacetona-fosfato']\n"
     ]
    }
   ],
   "source": [
    "print(busca_em_profundidade_direcionada(\"frutose-6-fosfato\", \"gliceraldeído-3-fosfato + di-hidroxiacetona-fosfato\", mapa_metabolico))"
   ]
  },
  {
   "cell_type": "code",

   "execution_count": 10,
   "id": "9024b187-b9ee-4730-be62-9f23ad2876db",
   "metadata": {},
   "outputs": [],
   "source": [
    "def rota_em_grafo(vertice_inicial, vertice_final, grafo):\n",

    "    grafo = tira_dobro(grafo)\n",
    "    rota = busca_em_profundidade_direcionada(vertice_inicial, vertice_final, grafo)\n",
    "    novo_grafo = {}\n",
    "    \n",

    "    try:\n",
    "        for i in range(len(rota)):\n",
    "            for enzima in grafo[rota[i]]:\n",
    "                novo_grafo[rota[i]] = {\"label\": grafo[rota[i]][enzima]}\n",
    "    except:\n",
    "        return \"Não é possível realizar a reação.\"\n",
    "\n",
    "    return novo_grafo"
   ]
  },
  {
   "cell_type": "code",
   "execution_count": 11,
   "id": "3bc1f25c-1192-4eec-a889-84efdb4ffceb",
   "metadata": {},
   "outputs": [],
   "source": [
    "def metabolitos_e_enzimas(vertice_inicial, vertice_final, grafo):\n",
    "    rota_com_enzimas = rota_em_grafo(vertice_inicial, vertice_final, grafo)\n",
    "    if type(rota_com_enzimas) != dict:\n",
    "        print(f\"Não é possível chegar ao {vertice_final} partindo do {vertice_inicial}\")\n",
    "    else:\n",
    "        print(f\"Para obter o(a) {vertice_final} a partir do(a) {vertice_inicial}, é preciso passar pela rota:\") \n",
    "        lista_da_rota = list(rota_com_enzimas.keys())\n",
    "        lista_grafo = list(grafo.keys())\n",
    "        if lista_grafo.index(vertice_inicial) < lista_grafo.index(vertice_final):\n",
    "            for i in range(len(lista_da_rota) - 1):\n",
    "                print(f\"Metabolito: {lista_da_rota[i]} -> [Enzima: {rota_com_enzimas[lista_da_rota[i]]['label']['label']}] ->\")\n",
    "        else: \n",
    "             for i in range(len(lista_da_rota) - 1):\n",
    "                print(f\"Metabolito: {lista_da_rota[i]} -> [Enzima: {rota_com_enzimas[lista_da_rota[i+1]]['label']['label']}] ->\")\n",
    "\n",
    "        print(f\"Produto: {lista_da_rota[-1]}\")"
   ]
  },
  {
   "cell_type": "code",

   "id": "3dc5629f-887b-4286-a381-d9d4b5a0e5d5",
   "metadata": {},
   "outputs": [
    {
     "name": "stdout",
     "output_type": "stream",
     "text": [
      "Para obter o(a) frutose-1,6-bisfosfato a partir do(a) glicose-6-fosfato, é preciso passar pela rota:\n",
      "Metabolito: glicose-6-fosfato -> [Enzima: fosfo-hexose-isomerase] ->\n",
      "Metabolito: frutose-6-fosfato -> [Enzima: fosfofrutocinase 1] ->\n",
      "Produto: frutose-1,6-bisfosfato\n"
     ]
    }
   ],
   "source": [
    "metabolitos_e_enzimas(\"glicose-6-fosfato\", \"frutose-1,6-bisfosfato\", mapa_metabolico)"
   ]
  },
  {
   "cell_type": "code",
   "execution_count": null,
   "id": "39f3d49d",
   "metadata": {},
   "outputs": [],
   "source": []
  }
 ],
 "metadata": {
  "kernelspec": {

   "display_name": "ilumpy",
   "language": "python",
   "name": "ilumpy"

  },
  "language_info": {
   "codemirror_mode": {
    "name": "ipython",
    "version": 3
   },
   "file_extension": ".py",
   "mimetype": "text/x-python",
   "name": "python",
   "nbconvert_exporter": "python",
   "pygments_lexer": "ipython3",
   "version": "3.12.7"
  }
 },
 "nbformat": 4,
 "nbformat_minor": 5
}
