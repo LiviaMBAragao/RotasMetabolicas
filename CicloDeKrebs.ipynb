{
 "cells": [
  {
   "cell_type": "code",
   "execution_count": 1,
   "id": "802e93cd",
   "metadata": {},
   "outputs": [],
   "source": [
    "# Descrição do Ciclo de Krebs em grafos\n",
    "ciclo_de_krebs = {\n",
    "    \"Acetil-CoA\": {\n",
    "        \"Citrato\": {\"label\": \"Citrato-Sintetase + H2O\"}\n",
    "    },\n",
    "    \"Citrato\": {\n",
    "        \"Cis-Aconitato\": {\"label\": \"Aconitase\"}\n",
    "    },\n",
    "    \"cis-Aconitato\":{\n",
    "        \"Isocitrato\": {\"label\", \"Aconitase\"}\n",
    "    },\n",
    "    \"Isocitrato\": {\n",
    "        \"Oxalosuccinato\": {\"label\":\"Isocitrato-Desidrogenase\"}\n",
    "    },\n",
    "    \"Oxalosuccinato\":{\n",
    "        \"a-Cetoglutarato\": {\"label\": \"Isocitrato-Desidrogenase\"}\n",
    "    },\n",
    "    \"a-Cetoglutarato\": {\n",
    "        \"Succinil-CoA\": {\"label\": \"a-Cetoglutarato-Desidrogenase\"}\n",
    "    },\n",
    "    \"Succinil-CoA\": {\n",
    "        \"Succinato\": {\"label\": \"Succinil-CoA-Sintetase\"}\n",
    "    },\n",
    "    \"Succinato\": {\n",
    "        \"Fumarato\": {\"label\": \"Succinato-Desidrogenase\"}\n",
    "    },\n",
    "    \"Fumarato\": {\n",
    "        \"L-Malato\": {\"label\": \"Fumarase\"}\n",
    "    }, \n",
    "    \"L-Malato\": {\n",
    "        \"Oxaloacetato\": {\"label\": \"Malato-Desidrogenase\"}},\n",
    "    \"Oxaloacetato\": {\n",
    "        \"Citrato\": {\"label\": \"\"} \n",
    "    }\n",
    "} "
   ]
  },
  {
   "cell_type": "code",
   "execution_count": null,
   "id": "6ddb06e4",
   "metadata": {},
   "outputs": [],
   "source": []
  }
 ],
 "metadata": {
  "kernelspec": {
   "display_name": "Python 3",
   "language": "python",
   "name": "python3"
  },
  "language_info": {
   "codemirror_mode": {
    "name": "ipython",
    "version": 3
   },
   "file_extension": ".py",
   "mimetype": "text/x-python",
   "name": "python",
   "nbconvert_exporter": "python",
   "pygments_lexer": "ipython3",
   "version": "3.12.7"
  }
 },
 "nbformat": 4,
 "nbformat_minor": 5
}
