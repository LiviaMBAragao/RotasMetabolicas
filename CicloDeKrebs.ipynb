{
 "cells": [
  {
   "cell_type": "code",
   "execution_count": 41,
   "id": "802e93cd",
   "metadata": {},
   "outputs": [],
   "source": [
    "# Descrição do Ciclo de Krebs em grafo\n",
    "ciclo_de_krebs = {\n",
    "    \"Acetil-CoA\": {\n",
    "        \"Citrato\": {\"label\": \"Citrato-Sintetase \"}\n",
    "    },\n",
    "    \"Citrato\": {\n",
    "        \"cis-Aconitato\": {\"label\": \"Aconitase\"},\n",
    "        \"Acetil-CoA\": {\"label\": \"\"}\n",
    "    },\n",
    "    \"cis-Aconitato\":{\n",
    "        \"Isocitrato\": {\"label\": \"Aconitase\"},\n",
    "        \"Citrato\": {\"label\": \"\"}\n",
    "    },\n",
    "    \"Isocitrato\": {\n",
    "        \"Oxalosuccinato\": {\"label\":\"Isocitrato-Desidrogenase\"},\n",
    "        \"cis-Aconitato\": {\"label\": \"\"}\n",
    "    },\n",
    "    \"Oxalosuccinato\":{\n",
    "        \"a-Cetoglutarato\": {\"label\": \"Isocitrato-Desidrogenase\"},\n",
    "        \"Isocitrato\": {\"label\": \"\"}\n",
    "    },\n",
    "    \"a-Cetoglutarato\": {\n",
    "        \"Succinil-CoA\": {\"label\": \"a-Cetoglutarato-Desidrogenase\"},\n",
    "        \"Oxalosuccinato\": {\"label\": \"\"}\n",
    "    },\n",
    "    \"Succinil-CoA\": {\n",
    "        \"Succinato\": {\"label\": \"Succinil-CoA-Sintetase\"},\n",
    "        \"a-Cetoglutarato\": {\"label\": \"\"}\n",
    "    },\n",
    "    \"Succinato\": {\n",
    "        \"Fumarato\": {\"label\": \"Succinato-Desidrogenase\"},\n",
    "        \"Succinil-CoA\": {\"label\": \"\"}\n",
    "    },\n",
    "    \"Fumarato\": {\n",
    "        \"L-Malato\": {\"label\": \"Fumarase\"},\n",
    "        \"Succinato\": {\"label\": \"\"}\n",
    "    }, \n",
    "    \"L-Malato\": {\n",
    "        \"Oxaloacetato\": {\"label\": \"Malato-Desidrogenase\"},\n",
    "        \"Fumarato\": {\"label\": \"\"}\n",
    "    },\n",
    "    \"Oxaloacetato\": {\n",
    "        \"Citrato\": {\"label\": \"\"},\n",
    "        \"L-Malato\": {\"label\": \"\"}\n",
    "    }\n",
    "} "
   ]
  },
  {
   "cell_type": "code",
   "execution_count": 42,
   "id": "55700190",
   "metadata": {},
   "outputs": [
    {
     "ename": "AttributeError",
     "evalue": "'dict' object has no attribute 'is_directed'",
     "output_type": "error",
     "traceback": [
      "\u001b[1;31m---------------------------------------------------------------------------\u001b[0m",
      "\u001b[1;31mAttributeError\u001b[0m                            Traceback (most recent call last)",
      "Cell \u001b[1;32mIn[42], line 3\u001b[0m\n\u001b[0;32m      1\u001b[0m \u001b[38;5;28;01mfrom\u001b[39;00m \u001b[38;5;21;01mnetworkx\u001b[39;00m\u001b[38;5;21;01m.\u001b[39;00m\u001b[38;5;21;01mdrawing\u001b[39;00m\u001b[38;5;21;01m.\u001b[39;00m\u001b[38;5;21;01mnx_agraph\u001b[39;00m \u001b[38;5;28;01mimport\u001b[39;00m to_agraph\n\u001b[1;32m----> 3\u001b[0m ciclokrebs \u001b[38;5;241m=\u001b[39m \u001b[43mto_agraph\u001b[49m\u001b[43m(\u001b[49m\u001b[43mciclo_de_krebs\u001b[49m\u001b[43m)\u001b[49m\n\u001b[0;32m      5\u001b[0m \u001b[38;5;28mprint\u001b[39m(ciclokrebs\u001b[38;5;241m.\u001b[39mto_string())\n\u001b[0;32m      7\u001b[0m \u001b[38;5;28;01mfrom\u001b[39;00m \u001b[38;5;21;01mIPython\u001b[39;00m\u001b[38;5;21;01m.\u001b[39;00m\u001b[38;5;21;01mdisplay\u001b[39;00m \u001b[38;5;28;01mimport\u001b[39;00m Image, display\n",
      "File \u001b[1;32m~\\AppData\\Roaming\\Python\\Python312\\site-packages\\networkx\\drawing\\nx_agraph.py:138\u001b[0m, in \u001b[0;36mto_agraph\u001b[1;34m(N)\u001b[0m\n\u001b[0;32m    136\u001b[0m \u001b[38;5;28;01mexcept\u001b[39;00m \u001b[38;5;167;01mImportError\u001b[39;00m \u001b[38;5;28;01mas\u001b[39;00m err:\n\u001b[0;32m    137\u001b[0m     \u001b[38;5;28;01mraise\u001b[39;00m \u001b[38;5;167;01mImportError\u001b[39;00m(\u001b[38;5;124m\"\u001b[39m\u001b[38;5;124mrequires pygraphviz http://pygraphviz.github.io/\u001b[39m\u001b[38;5;124m\"\u001b[39m) \u001b[38;5;28;01mfrom\u001b[39;00m \u001b[38;5;21;01merr\u001b[39;00m\n\u001b[1;32m--> 138\u001b[0m directed \u001b[38;5;241m=\u001b[39m \u001b[43mN\u001b[49m\u001b[38;5;241;43m.\u001b[39;49m\u001b[43mis_directed\u001b[49m()\n\u001b[0;32m    139\u001b[0m strict \u001b[38;5;241m=\u001b[39m nx\u001b[38;5;241m.\u001b[39mnumber_of_selfloops(N) \u001b[38;5;241m==\u001b[39m \u001b[38;5;241m0\u001b[39m \u001b[38;5;129;01mand\u001b[39;00m \u001b[38;5;129;01mnot\u001b[39;00m N\u001b[38;5;241m.\u001b[39mis_multigraph()\n\u001b[0;32m    141\u001b[0m A \u001b[38;5;241m=\u001b[39m pygraphviz\u001b[38;5;241m.\u001b[39mAGraph(name\u001b[38;5;241m=\u001b[39mN\u001b[38;5;241m.\u001b[39mname, strict\u001b[38;5;241m=\u001b[39mstrict, directed\u001b[38;5;241m=\u001b[39mdirected)\n",
      "\u001b[1;31mAttributeError\u001b[0m: 'dict' object has no attribute 'is_directed'"
     ]
    }
   ],
   "source": [
    "from networkx.drawing.nx_agraph import to_agraph\n",
    "\n",
    "ciclokrebs = to_agraph(ciclo_de_krebs)\n",
    " \n",
    "print(ciclokrebs.to_string())\n",
    " \n",
    "from IPython.display import Image, display\n",
    " \n",
    "display(Image(ciclokrebs.draw(format=\"png\", prog=\"circo\")))\n",
    " "
   ]
  },
  {
   "cell_type": "code",
   "execution_count": null,
   "id": "c2720933-67ef-4cbd-ae65-48c01e3da81f",
   "metadata": {},
   "outputs": [],
   "source": []
  }
 ],
 "metadata": {
  "kernelspec": {
   "display_name": "Python 3 (ipykernel)",
   "language": "python",
   "name": "python3"
  },
  "language_info": {
   "codemirror_mode": {
    "name": "ipython",
    "version": 3
   },
   "file_extension": ".py",
   "mimetype": "text/x-python",
   "name": "python",
   "nbconvert_exporter": "python",
   "pygments_lexer": "ipython3",
   "version": "3.12.7"
  }
 },
 "nbformat": 4,
 "nbformat_minor": 5
}
