{
 "cells": [
  {
   "cell_type": "markdown",
   "id": "63fe5ec3-afd9-4577-bb3e-8368b43ce3d1",
   "metadata": {},
   "source": [
    "# Glicólise - Representação em Grafo"
   ]
  },
  {
   "cell_type": "markdown",
   "id": "72ffefd8-c3e1-4782-afe8-22c518d664a6",
   "metadata": {},
   "source": [
    "Grafo com as reações da glicólise, destacando os principais metabólitos orgânicos envolvidos na quebra da glicose para a obtenção final duas moléculas de piruvato no final. As setas no grafo simbolizam essas reações, com as chaves do dicionário que define o grafo representando reagentes e seus valores, seus produtos. Além disso, foi utilizada uma estrutura de grafos ponderados para sinalizar as principais enzimas que catalisam cada reação.\n",
    "\n",
    "Ao final desse notebook, é possível obter uma  representação visual do grafo apresentado, a partir do software `graphviz`. \n",
    "_[Erros podem ocorrer nessa parte caso o software não esteja instalado na sua máquina, podendo obter a estrutura do grafo pelo site [https://dreampuf.github.io/GraphvizOnline/](https://dreampuf.github.io/GraphvizOnline/).]_"
   ]
  },
  {
   "cell_type": "code",
   "execution_count": 2,
   "id": "2659d273-8353-40ed-a63d-0b4faa404a59",
   "metadata": {},
   "outputs": [],
   "source": [
    "glicolise = {\n",
    "    \"glicose\": {\n",
    "        \"glicose-6-fosfato\": {\"label\": \"hexocinase\"}\n",
    "    },\n",
    "    \n",
    "    \"glicose-6-fosfato\": {\n",
    "        \"frutose-6-fosfato\": {\"label\": \"fosfo-hexose-isomerase\"}\n",
    "    },\n",
    "    \n",
    "    \"frutose-6-fosfato\": { \n",
    "        \"glicose-6-fosfato\": {\"label\": \"\"},\n",
    "        \"frutose-1,6-bisfosfato\": {\"label\": \"fosfofrutocinase 1\"}\n",
    "    },\n",
    "    \n",
    "    \"frutose-1,6-bisfosfato\": {\n",
    "        \"gliceraldeído-3-fosfato\": {\"label\": \"aldolase\"},\n",
    "        \"di-hidroxiacetona-fosfato\": {\"label\": \"aldolase\"},\n",
    "    },\n",
    "\n",
    "    \"di-hidroxiacetona-fosfato\": {\n",
    "        \"frutose-1,6-bisfosfato\": {\"label\": \"\"},\n",
    "        \"(2) gliceraldeído-3-fosfato\": {\"label\": \"triose-fosfato-isomerase\"}\n",
    "    },    \n",
    "    \n",
    "    \"gliceraldeído-3-fosfato\": {\n",
    "        \"frutose-1,6-bisfosfato\": {\"label\": \"\"},\n",
    "        \"(2) gliceraldeído-3-fosfato\": {\"label\": \"\"}\n",
    "    },\n",
    "\n",
    "    \"(2) gliceraldeído-3-fosfato\": {\n",
    "        \"(2) 1,3-bisfosfoglicerato\": {\"label\": \"gliceraldeido-3-fosfato-desidrogenase\"}\n",
    "    },\n",
    "\n",
    "    \"(2) 1,3-bisfosfoglicerato\": {\n",
    "        \"(2) gliceraldeído-3-fosfato\": {\"label\": \"\"},\n",
    "        \"(2) 3-fosfoglicerato\": {\"label\": \"fosfoglicerato-cinase\"}\n",
    "    },\n",
    "\n",
    "    \"(2) 3-fosfoglicerato\": {\n",
    "        \"(2) 1,3-bisfosfoglicerato\": {\"label\": \"\"},\n",
    "        \"(2) 2-fosfoglicerato\": {\"label\": \"fosfoglicerato-mutase\"}\n",
    "    },\n",
    "\n",
    "    \"(2) 2-fosfoglicerato\":{\n",
    "        \"(2) 3-fosfoglicerato\": {\"label\": \"\"},\n",
    "        \"(2) fosfoenolpiruvato\": {\"label\": \"enolase\"}\n",
    "    },\n",
    "\n",
    "    \"(2) fosfoenolpiruvato\": {\n",
    "        \"(2) 2-fosfoglicerato\": {\"label\": \"\"},\n",
    "        \"(2) piruvato\": {\"label\": \"piruvato-cinase\"}\n",
    "    }\n",
    "\n",
    "}"
   ]
  },
  {
   "cell_type": "markdown",
   "id": "96a8643e-8898-4316-a4c1-656716f2dbec",
   "metadata": {},
   "source": [
    "Para que a representação visual seja impressa corretamente com os metaólitos e as enzimas, será necessário importar a biblioteca `networkx`, para conseguir criar e modular estruturas de grafos; a classe `AGraph` do sistema `Graphviz`, para estruturar a visualização dos grafos, e o módulo `IPython.display`, para exibir essa imagem diretamente no notebook e salvá-la em `.png`."
   ]
  },
  {
   "cell_type": "code",
   "execution_count": null,
   "id": "90db6b9c-acaf-4bb2-b97e-adfa56c029c6",
   "metadata": {},
   "outputs": [],
   "source": [
    "import networkx as nx\n",
    "from networkx.drawing.nx_agraph import to_agraph\n",
    "\n",
    "g = nx.DiGraph(glicolise)\n",
    "glicolise = to_agraph(g)\n",
    "\n",
    "print(glicolise.to_string())\n",
    "\n",
    "from IPython.display import Image, display\n",
    "\n",
    "display(Image(glicolise.draw(format=\"png\", prog=\"dot\")))\n",
    "glicolise.draw(\"glicolise.png\", format=\"png\", prog=\"dot\")"
   ]
  }
 ],
 "metadata": {
  "kernelspec": {
   "display_name": "ilumpy",
   "language": "python",
   "name": "ilumpy"
  },
  "language_info": {
   "codemirror_mode": {
    "name": "ipython",
    "version": 3
   },
   "file_extension": ".py",
   "mimetype": "text/x-python",
   "name": "python",
   "nbconvert_exporter": "python",
   "pygments_lexer": "ipython3",
   "version": "3.12.7"
  }
 },
 "nbformat": 4,
 "nbformat_minor": 5
}
